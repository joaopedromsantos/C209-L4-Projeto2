{
 "cells": [
  {
   "cell_type": "markdown",
   "id": "7497caa5-2be6-4d31-a1eb-79ef41796092",
   "metadata": {},
   "source": [
    "# Trabalho C209 LAB L4 - 2\n",
    "\n",
    "\n",
    "\n",
    "#### Nome: João Pedro Martins dos Santos\n",
    "#### Matrícula: 309 GES\n",
    "\n",
    "#### Vídeo Inicial = https://drive.google.com/file/d/1iWWr4oKisBgVWpGnD_ciNA_NaP0VtUWR/view?usp=drive_link\n",
    "#### Vídeo Final = https://drive.google.com/file/d/1Rf34VFys1DZXDZP9k7Fz5UDzWpU2_GCS/view?usp=sharing"
   ]
  },
  {
   "cell_type": "markdown",
   "id": "58cf9e4b-354b-45fa-8fca-9c8851f7492b",
   "metadata": {},
   "source": "1 - Importar Bibliotecas"
  },
  {
   "cell_type": "code",
   "id": "a147ef38-134e-4ee1-95a1-2b80f3f3f010",
   "metadata": {},
   "source": [
    "import moviepy.editor as mpe\n",
    "import numpy as np"
   ],
   "outputs": [],
   "execution_count": null
  },
  {
   "cell_type": "markdown",
   "id": "a1e5793e-5984-479b-865d-9ec140d64beb",
   "metadata": {},
   "source": [
    "2 - Carrego o vídeo e adiciono a uma variável"
   ]
  },
  {
   "cell_type": "code",
   "id": "e159f48d-d1d1-4a62-aadf-72b78bfbb92c",
   "metadata": {
    "scrolled": true
   },
   "source": [
    "video = mpe.VideoFileClip(\"inicial.mp4\")"
   ],
   "outputs": [],
   "execution_count": null
  },
  {
   "cell_type": "markdown",
   "id": "af02e79d-610d-4303-a92c-28ced3a86750",
   "metadata": {},
   "source": [
    "3 - Inverter a imagem, no eixo, a cada 20 segundo"
   ]
  },
  {
   "cell_type": "code",
   "id": "c88ef2dd-3e50-4291-b618-ec1881e66d00",
   "metadata": {
    "scrolled": true
   },
   "source": [
    "# função que inverte a imagem pelo numpy\n",
    "def invert(array):\n",
    "    return array[:, ::-1, :]"
   ],
   "outputs": [],
   "execution_count": null
  },
  {
   "cell_type": "code",
   "id": "44e91b72-7bc7-4106-be48-7324d98bd75d",
   "metadata": {},
   "source": [
    "# Separando em partes de 20 segundos\n",
    "intervalo = 20\n",
    "duracao = video.duration\n",
    "num_subclips = int(duracao // intervalo)\n",
    "subclips = []"
   ],
   "outputs": [],
   "execution_count": null
  },
  {
   "cell_type": "code",
   "id": "73865a77-031a-413a-ace5-be5cd8cc5324",
   "metadata": {},
   "source": [
    "# Percorro os subclips preocupando em não ultrapassar \n",
    "for i in range(num_subclips):\n",
    "    start = i * intervalo\n",
    "\n",
    "    # Segurança para não ultrapassar\n",
    "    end = min((i + 1) * intervalo, duracao)\n",
    "\n",
    "    subclip = video.subclip(start, end)\n",
    "\n",
    "    # Se o índice for ímpar inverte no eixo x\n",
    "    if i % 2 == 1:\n",
    "        subclip = subclip.fl_image(invert)\n",
    "\n",
    "    subclips.append(subclip)\n",
    "\n",
    "# Concatenação\n",
    "video = mpe.concatenate_videoclips(subclips)"
   ],
   "outputs": [],
   "execution_count": null
  },
  {
   "cell_type": "markdown",
   "id": "15b91984-b072-4562-9cf8-10a088d1a533",
   "metadata": {},
   "source": [
    "4 - Diminuir o som, de forma gradativa, a cada 30 segundos, de forma que os últimos 10 \n",
    "segundos fique em silêncio (sem som) "
   ]
  },
  {
   "cell_type": "code",
   "id": "bf3f2ceb-c772-4c00-a640-4012afff67f4",
   "metadata": {
    "scrolled": true
   },
   "source": [
    "# Função para diminuir volume\n",
    "def fade_out(audio, t):\n",
    "    frame = audio(t)\n",
    "\n",
    "    # Número de blocos de 30 segundos -> tratando para que a divisão não arredonde para baixo\n",
    "    n_blocos = int(video.duration / 30)\n",
    "    if video.duration % 30 != 0:\n",
    "        n_blocos += 1\n",
    "\n",
    "    # Diminuição de volume por bloco  por exemplo se tiver 4 blocos é 25% pra cada\n",
    "    volume_por_bloco = 1 / (n_blocos)\n",
    "\n",
    "    # Em qual bloco o tempo atual está\n",
    "    bloco = t / 30\n",
    "\n",
    "    # Calcula o volume para esse bloco\n",
    "    volume = 1 - (bloco * volume_por_bloco)\n",
    "\n",
    "    frame[:, 0] *= volume\n",
    "    frame[:, 1] *= volume\n",
    "\n",
    "    return frame\n",
    "\n",
    "# Função para mutar\n",
    "def mute(audio, t):\n",
    "    frame = audio(t)\n",
    "    frame[:, 0] *= 0\n",
    "    frame[:, 1] *= 0\n",
    "    return frame\n",
    "\n",
    "duracao = video.duration\n",
    "\n",
    "# Separa o vídeo em duas partes\n",
    "video_fade_out = video.subclip(0, duracao - 10)  # Do início até 10s antes do fim\n",
    "video_mute = video.subclip(duracao - 10, duracao)  # Últimos 10 segundos\n",
    "\n",
    "# Aplica fade out na primeira parte\n",
    "audio_fade = video_fade_out.audio.fl(fade_out)\n",
    "video_fade_out = video_fade_out.set_audio(audio_fade)\n",
    "\n",
    "# Aplica mute na segunda parte\n",
    "audio_mute = video_mute.audio.fl(mute)\n",
    "video_mute = video_mute.set_audio(audio_mute)\n",
    "\n",
    "# Junta as partes\n",
    "video_som_modificado = mpe.concatenate_videoclips([video_fade_out, video_mute])\n"
   ],
   "outputs": [],
   "execution_count": null
  },
  {
   "cell_type": "markdown",
   "id": "64629b4f-4596-4a31-a020-1511bbb418e1",
   "metadata": {},
   "source": "5 - Após o primeiro minuto, 60 segundos, fazer um corte para o segundo 80"
  },
  {
   "cell_type": "code",
   "id": "e12e5e93-b003-4cfc-905b-475400d03b22",
   "metadata": {},
   "source": [
    "video_primeiro_minuto = video_som_modificado.subclip(0, 60)\n",
    "video_cortado = video_som_modificado.subclip(60, 80)\n",
    "video_segunda_parte =  video_som_modificado.subclip(80, video_som_modificado.duration)"
   ],
   "outputs": [],
   "execution_count": null
  },
  {
   "cell_type": "markdown",
   "id": "d307534d-62d0-49b8-8321-6ee874f0ed6b",
   "metadata": {},
   "source": "6 - Por fim, insira os 20 segundos cortados acima no fim do video"
  },
  {
   "cell_type": "code",
   "id": "8f32c50b-f39e-4f50-9f51-91b66c6ccfeb",
   "metadata": {},
   "source": [
    "video_final = mpe.concatenate_videoclips([video_primeiro_minuto, video_segunda_parte, video_cortado])\n",
    "\n",
    "video_final.write_videofile('resultado.mp4')"
   ],
   "outputs": [],
   "execution_count": null
  }
 ],
 "metadata": {
  "kernelspec": {
   "display_name": "Python 3 (ipykernel)",
   "language": "python",
   "name": "python3"
  },
  "language_info": {
   "codemirror_mode": {
    "name": "ipython",
    "version": 3
   },
   "file_extension": ".py",
   "mimetype": "text/x-python",
   "name": "python",
   "nbconvert_exporter": "python",
   "pygments_lexer": "ipython3",
   "version": "3.13.2"
  }
 },
 "nbformat": 4,
 "nbformat_minor": 5
}
