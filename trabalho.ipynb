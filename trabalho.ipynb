{
 "cells": [
  {
   "cell_type": "markdown",
   "id": "7497caa5-2be6-4d31-a1eb-79ef41796092",
   "metadata": {},
   "source": [
    "# Trabalho C209 LAB L4 - 2\n",
    "\n",
    "\n",
    "\n",
    "#### Nome: João Pedro Martins dos Santos\n",
    "#### Matrícula: 309 GES\n",
    "\n",
    "#### Vídeo Inicial = https://drive.google.com/file/d/1iWWr4oKisBgVWpGnD_ciNA_NaP0VtUWR/view?usp=drive_link\n",
    "#### Vídeo Final = https://drive.google.com/file/d/1Rf34VFys1DZXDZP9k7Fz5UDzWpU2_GCS/view?usp=sharing"
   ]
  },
  {
   "cell_type": "markdown",
   "id": "58cf9e4b-354b-45fa-8fca-9c8851f7492b",
   "metadata": {},
   "source": [
    "1 - Importar Bibliotecas"
   ]
  },
  {
   "cell_type": "code",
   "execution_count": 1,
   "id": "a147ef38-134e-4ee1-95a1-2b80f3f3f010",
   "metadata": {
    "ExecuteTime": {
     "end_time": "2025-06-06T21:38:02.056033Z",
     "start_time": "2025-06-06T21:38:01.323307Z"
    }
   },
   "outputs": [],
   "source": [
    "import moviepy.editor as mpe\n",
    "import numpy as np"
   ]
  },
  {
   "cell_type": "markdown",
   "id": "a1e5793e-5984-479b-865d-9ec140d64beb",
   "metadata": {},
   "source": [
    "2 - Carrego o vídeo e adiciono a uma variável"
   ]
  },
  {
   "cell_type": "code",
   "execution_count": 2,
   "id": "e159f48d-d1d1-4a62-aadf-72b78bfbb92c",
   "metadata": {
    "ExecuteTime": {
     "end_time": "2025-06-06T16:38:36.909263Z",
     "start_time": "2025-06-06T16:38:36.443896Z"
    },
    "scrolled": true
   },
   "outputs": [],
   "source": [
    "video = mpe.VideoFileClip(\"inicial.mp4\")"
   ]
  },
  {
   "cell_type": "markdown",
   "id": "af02e79d-610d-4303-a92c-28ced3a86750",
   "metadata": {},
   "source": [
    "3 - Inverter a imagem, no eixo, a cada 20 segundo"
   ]
  },
  {
   "cell_type": "code",
   "execution_count": 3,
   "id": "c88ef2dd-3e50-4291-b618-ec1881e66d00",
   "metadata": {
    "ExecuteTime": {
     "end_time": "2025-06-06T16:39:09.078287Z",
     "start_time": "2025-06-06T16:39:09.071900Z"
    },
    "scrolled": true
   },
   "outputs": [],
   "source": [
    "# função que inverte a imagem pelo numpy\n",
    "def invert(array):\n",
    "    return array[:, ::-1, :]"
   ]
  },
  {
   "cell_type": "code",
   "execution_count": 4,
   "id": "44e91b72-7bc7-4106-be48-7324d98bd75d",
   "metadata": {
    "ExecuteTime": {
     "end_time": "2025-06-06T16:39:21.542918Z",
     "start_time": "2025-06-06T16:39:21.526130Z"
    }
   },
   "outputs": [],
   "source": [
    "# Separando em partes de 20 segundos\n",
    "intervalo = 20\n",
    "duracao = video.duration\n",
    "num_subclips = int(duracao // intervalo)\n",
    "subclips = []"
   ]
  },
  {
   "cell_type": "code",
   "execution_count": 5,
   "id": "73865a77-031a-413a-ace5-be5cd8cc5324",
   "metadata": {
    "ExecuteTime": {
     "end_time": "2025-06-06T16:39:27.080334Z",
     "start_time": "2025-06-06T16:39:25.036613Z"
    }
   },
   "outputs": [],
   "source": [
    "# Percorro os subclips preocupando em não ultrapassar \n",
    "for i in range(num_subclips):\n",
    "    start = i * intervalo\n",
    "\n",
    "    # Segurança para não ultrapassar\n",
    "    end = min((i + 1) * intervalo, duracao)\n",
    "\n",
    "    subclip = video.subclip(start, end)\n",
    "\n",
    "    # Se o índice for ímpar inverte no eixo x\n",
    "    if i % 2 == 1:\n",
    "        subclip = subclip.fl_image(invert)\n",
    "\n",
    "    subclips.append(subclip)\n",
    "\n",
    "# Concatenação\n",
    "video = mpe.concatenate_videoclips(subclips)"
   ]
  },
  {
   "cell_type": "markdown",
   "id": "15b91984-b072-4562-9cf8-10a088d1a533",
   "metadata": {},
   "source": [
    "4 - Diminuir o som, de forma gradativa, a cada 30 segundos, de forma que os últimos 10 \n",
    "segundos fique em silêncio (sem som) "
   ]
  },
  {
   "cell_type": "code",
   "execution_count": 6,
   "id": "bf3f2ceb-c772-4c00-a640-4012afff67f4",
   "metadata": {
    "ExecuteTime": {
     "end_time": "2025-06-06T16:46:54.088695Z",
     "start_time": "2025-06-06T16:44:40.786747Z"
    },
    "scrolled": true
   },
   "outputs": [],
   "source": [
    "# Função para diminuir volume\n",
    "def fade_out(audio, t):\n",
    "    frame = audio(t)\n",
    "\n",
    "    # Número de blocos de 30 segundos -> tratando para que a divisão não arredonde para baixo\n",
    "    n_blocos = int(video.duration / 30)\n",
    "    if video.duration % 30 != 0:\n",
    "        n_blocos += 1\n",
    "\n",
    "    # Diminuição de volume por bloco  por exemplo se tiver 4 blocos é 25% pra cada\n",
    "    volume_por_bloco = 1 / (n_blocos)\n",
    "\n",
    "    # Em qual bloco o tempo atual está\n",
    "    bloco = t / 30\n",
    "\n",
    "    # Calcula o volume para esse bloco\n",
    "    volume = 1 - (bloco * volume_por_bloco)\n",
    "\n",
    "    frame[:, 0] *= volume\n",
    "    frame[:, 1] *= volume\n",
    "\n",
    "    return frame\n",
    "\n",
    "# Função para mutar\n",
    "def mute(audio, t):\n",
    "    frame = audio(t)\n",
    "    frame[:, 0] *= 0\n",
    "    frame[:, 1] *= 0\n",
    "    return frame\n",
    "\n",
    "duracao = video.duration\n",
    "\n",
    "# Separa o vídeo em duas partes\n",
    "video_fade_out = video.subclip(0, duracao - 10)  # Do início até 10s antes do fim\n",
    "video_mute = video.subclip(duracao - 10, duracao)  # Últimos 10 segundos\n",
    "\n",
    "# Aplica fade out na primeira parte\n",
    "audio_fade = video_fade_out.audio.fl(fade_out)\n",
    "video_fade_out = video_fade_out.set_audio(audio_fade)\n",
    "\n",
    "# Aplica mute na segunda parte\n",
    "audio_mute = video_mute.audio.fl(mute)\n",
    "video_mute = video_mute.set_audio(audio_mute)\n",
    "\n",
    "# Junta as partes\n",
    "video_som_modificado = mpe.concatenate_videoclips([video_fade_out, video_mute])\n"
   ]
  },
  {
   "cell_type": "markdown",
   "id": "64629b4f-4596-4a31-a020-1511bbb418e1",
   "metadata": {},
   "source": [
    "5 - Após o primeiro minuto, 60 segundos, fazer um corte para o segundo 80"
   ]
  },
  {
   "cell_type": "code",
   "execution_count": 7,
   "id": "e12e5e93-b003-4cfc-905b-475400d03b22",
   "metadata": {},
   "outputs": [],
   "source": [
    "video_primeiro_minuto = video_som_modificado.subclip(0, 60)\n",
    "video_cortado = video_som_modificado.subclip(60, 80)\n",
    "video_segunda_parte =  video_som_modificado.subclip(80, video_som_modificado.duration)"
   ]
  },
  {
   "cell_type": "markdown",
   "id": "d307534d-62d0-49b8-8321-6ee874f0ed6b",
   "metadata": {},
   "source": [
    "6 - Por fim, insira os 20 segundos cortados acima no fim do video"
   ]
  },
  {
   "cell_type": "code",
   "execution_count": 8,
   "id": "8f32c50b-f39e-4f50-9f51-91b66c6ccfeb",
   "metadata": {},
   "outputs": [
    {
     "name": "stdout",
     "output_type": "stream",
     "text": [
      "Moviepy - Building video resultado.mp4.\n",
      "MoviePy - Writing audio in resultadoTEMP_MPY_wvf_snd.mp3\n"
     ]
    },
    {
     "name": "stderr",
     "output_type": "stream",
     "text": [
      "                                                                      "
     ]
    },
    {
     "name": "stdout",
     "output_type": "stream",
     "text": [
      "MoviePy - Done.\n",
      "Moviepy - Writing video resultado.mp4\n",
      "\n"
     ]
    },
    {
     "name": "stderr",
     "output_type": "stream",
     "text": [
      "t:  16%|█▌        | 1352/8400 [00:16<02:36, 44.94it/s, now=None]"
     ]
    },
    {
     "ename": "KeyboardInterrupt",
     "evalue": "",
     "output_type": "error",
     "traceback": [
      "\u001b[31m---------------------------------------------------------------------------\u001b[39m",
      "\u001b[31mKeyboardInterrupt\u001b[39m                         Traceback (most recent call last)",
      "\u001b[36mCell\u001b[39m\u001b[36m \u001b[39m\u001b[32mIn[8]\u001b[39m\u001b[32m, line 3\u001b[39m\n\u001b[32m      1\u001b[39m video_final = mpe.concatenate_videoclips([video_primeiro_minuto, video_segunda_parte, video_cortado])\n\u001b[32m----> \u001b[39m\u001b[32m3\u001b[39m \u001b[43mvideo_final\u001b[49m\u001b[43m.\u001b[49m\u001b[43mwrite_videofile\u001b[49m\u001b[43m(\u001b[49m\u001b[33;43m'\u001b[39;49m\u001b[33;43mresultado.mp4\u001b[39;49m\u001b[33;43m'\u001b[39;49m\u001b[43m)\u001b[49m\n",
      "\u001b[36mFile \u001b[39m\u001b[32m<decorator-gen-74>:2\u001b[39m, in \u001b[36mwrite_videofile\u001b[39m\u001b[34m(self, filename, fps, codec, bitrate, audio, audio_fps, preset, audio_nbytes, audio_codec, audio_bitrate, audio_bufsize, temp_audiofile, rewrite_audio, remove_temp, write_logfile, verbose, threads, ffmpeg_params, logger)\u001b[39m\n",
      "\u001b[36mFile \u001b[39m\u001b[32m~\\PycharmProjects\\trabalho\\.venv\\Lib\\site-packages\\moviepy\\decorators.py:54\u001b[39m, in \u001b[36mrequires_duration\u001b[39m\u001b[34m(f, clip, *a, **k)\u001b[39m\n\u001b[32m     52\u001b[39m     \u001b[38;5;28;01mraise\u001b[39;00m \u001b[38;5;167;01mValueError\u001b[39;00m(\u001b[33m\"\u001b[39m\u001b[33mAttribute \u001b[39m\u001b[33m'\u001b[39m\u001b[33mduration\u001b[39m\u001b[33m'\u001b[39m\u001b[33m not set\u001b[39m\u001b[33m\"\u001b[39m)\n\u001b[32m     53\u001b[39m \u001b[38;5;28;01melse\u001b[39;00m:\n\u001b[32m---> \u001b[39m\u001b[32m54\u001b[39m     \u001b[38;5;28;01mreturn\u001b[39;00m \u001b[43mf\u001b[49m\u001b[43m(\u001b[49m\u001b[43mclip\u001b[49m\u001b[43m,\u001b[49m\u001b[43m \u001b[49m\u001b[43m*\u001b[49m\u001b[43ma\u001b[49m\u001b[43m,\u001b[49m\u001b[43m \u001b[49m\u001b[43m*\u001b[49m\u001b[43m*\u001b[49m\u001b[43mk\u001b[49m\u001b[43m)\u001b[49m\n",
      "\u001b[36mFile \u001b[39m\u001b[32m<decorator-gen-73>:2\u001b[39m, in \u001b[36mwrite_videofile\u001b[39m\u001b[34m(self, filename, fps, codec, bitrate, audio, audio_fps, preset, audio_nbytes, audio_codec, audio_bitrate, audio_bufsize, temp_audiofile, rewrite_audio, remove_temp, write_logfile, verbose, threads, ffmpeg_params, logger)\u001b[39m\n",
      "\u001b[36mFile \u001b[39m\u001b[32m~\\PycharmProjects\\trabalho\\.venv\\Lib\\site-packages\\moviepy\\decorators.py:135\u001b[39m, in \u001b[36muse_clip_fps_by_default\u001b[39m\u001b[34m(f, clip, *a, **k)\u001b[39m\n\u001b[32m    130\u001b[39m new_a = [fun(arg) \u001b[38;5;28;01mif\u001b[39;00m (name==\u001b[33m'\u001b[39m\u001b[33mfps\u001b[39m\u001b[33m'\u001b[39m) \u001b[38;5;28;01melse\u001b[39;00m arg\n\u001b[32m    131\u001b[39m          \u001b[38;5;28;01mfor\u001b[39;00m (arg, name) \u001b[38;5;129;01min\u001b[39;00m \u001b[38;5;28mzip\u001b[39m(a, names)]\n\u001b[32m    132\u001b[39m new_kw = {k: fun(v) \u001b[38;5;28;01mif\u001b[39;00m k==\u001b[33m'\u001b[39m\u001b[33mfps\u001b[39m\u001b[33m'\u001b[39m \u001b[38;5;28;01melse\u001b[39;00m v\n\u001b[32m    133\u001b[39m          \u001b[38;5;28;01mfor\u001b[39;00m (k,v) \u001b[38;5;129;01min\u001b[39;00m k.items()}\n\u001b[32m--> \u001b[39m\u001b[32m135\u001b[39m \u001b[38;5;28;01mreturn\u001b[39;00m \u001b[43mf\u001b[49m\u001b[43m(\u001b[49m\u001b[43mclip\u001b[49m\u001b[43m,\u001b[49m\u001b[43m \u001b[49m\u001b[43m*\u001b[49m\u001b[43mnew_a\u001b[49m\u001b[43m,\u001b[49m\u001b[43m \u001b[49m\u001b[43m*\u001b[49m\u001b[43m*\u001b[49m\u001b[43mnew_kw\u001b[49m\u001b[43m)\u001b[49m\n",
      "\u001b[36mFile \u001b[39m\u001b[32m<decorator-gen-72>:2\u001b[39m, in \u001b[36mwrite_videofile\u001b[39m\u001b[34m(self, filename, fps, codec, bitrate, audio, audio_fps, preset, audio_nbytes, audio_codec, audio_bitrate, audio_bufsize, temp_audiofile, rewrite_audio, remove_temp, write_logfile, verbose, threads, ffmpeg_params, logger)\u001b[39m\n",
      "\u001b[36mFile \u001b[39m\u001b[32m~\\PycharmProjects\\trabalho\\.venv\\Lib\\site-packages\\moviepy\\decorators.py:22\u001b[39m, in \u001b[36mconvert_masks_to_RGB\u001b[39m\u001b[34m(f, clip, *a, **k)\u001b[39m\n\u001b[32m     20\u001b[39m \u001b[38;5;28;01mif\u001b[39;00m clip.ismask:\n\u001b[32m     21\u001b[39m     clip = clip.to_RGB()\n\u001b[32m---> \u001b[39m\u001b[32m22\u001b[39m \u001b[38;5;28;01mreturn\u001b[39;00m \u001b[43mf\u001b[49m\u001b[43m(\u001b[49m\u001b[43mclip\u001b[49m\u001b[43m,\u001b[49m\u001b[43m \u001b[49m\u001b[43m*\u001b[49m\u001b[43ma\u001b[49m\u001b[43m,\u001b[49m\u001b[43m \u001b[49m\u001b[43m*\u001b[49m\u001b[43m*\u001b[49m\u001b[43mk\u001b[49m\u001b[43m)\u001b[49m\n",
      "\u001b[36mFile \u001b[39m\u001b[32m~\\PycharmProjects\\trabalho\\.venv\\Lib\\site-packages\\moviepy\\video\\VideoClip.py:300\u001b[39m, in \u001b[36mVideoClip.write_videofile\u001b[39m\u001b[34m(self, filename, fps, codec, bitrate, audio, audio_fps, preset, audio_nbytes, audio_codec, audio_bitrate, audio_bufsize, temp_audiofile, rewrite_audio, remove_temp, write_logfile, verbose, threads, ffmpeg_params, logger)\u001b[39m\n\u001b[32m    292\u001b[39m \u001b[38;5;28;01mif\u001b[39;00m make_audio:\n\u001b[32m    293\u001b[39m     \u001b[38;5;28mself\u001b[39m.audio.write_audiofile(audiofile, audio_fps,\n\u001b[32m    294\u001b[39m                                audio_nbytes, audio_bufsize,\n\u001b[32m    295\u001b[39m                                audio_codec, bitrate=audio_bitrate,\n\u001b[32m    296\u001b[39m                                write_logfile=write_logfile,\n\u001b[32m    297\u001b[39m                                verbose=verbose,\n\u001b[32m    298\u001b[39m                                logger=logger)\n\u001b[32m--> \u001b[39m\u001b[32m300\u001b[39m \u001b[43mffmpeg_write_video\u001b[49m\u001b[43m(\u001b[49m\u001b[38;5;28;43mself\u001b[39;49m\u001b[43m,\u001b[49m\u001b[43m \u001b[49m\u001b[43mfilename\u001b[49m\u001b[43m,\u001b[49m\u001b[43m \u001b[49m\u001b[43mfps\u001b[49m\u001b[43m,\u001b[49m\u001b[43m \u001b[49m\u001b[43mcodec\u001b[49m\u001b[43m,\u001b[49m\n\u001b[32m    301\u001b[39m \u001b[43m                   \u001b[49m\u001b[43mbitrate\u001b[49m\u001b[43m=\u001b[49m\u001b[43mbitrate\u001b[49m\u001b[43m,\u001b[49m\n\u001b[32m    302\u001b[39m \u001b[43m                   \u001b[49m\u001b[43mpreset\u001b[49m\u001b[43m=\u001b[49m\u001b[43mpreset\u001b[49m\u001b[43m,\u001b[49m\n\u001b[32m    303\u001b[39m \u001b[43m                   \u001b[49m\u001b[43mwrite_logfile\u001b[49m\u001b[43m=\u001b[49m\u001b[43mwrite_logfile\u001b[49m\u001b[43m,\u001b[49m\n\u001b[32m    304\u001b[39m \u001b[43m                   \u001b[49m\u001b[43maudiofile\u001b[49m\u001b[43m=\u001b[49m\u001b[43maudiofile\u001b[49m\u001b[43m,\u001b[49m\n\u001b[32m    305\u001b[39m \u001b[43m                   \u001b[49m\u001b[43mverbose\u001b[49m\u001b[43m=\u001b[49m\u001b[43mverbose\u001b[49m\u001b[43m,\u001b[49m\u001b[43m \u001b[49m\u001b[43mthreads\u001b[49m\u001b[43m=\u001b[49m\u001b[43mthreads\u001b[49m\u001b[43m,\u001b[49m\n\u001b[32m    306\u001b[39m \u001b[43m                   \u001b[49m\u001b[43mffmpeg_params\u001b[49m\u001b[43m=\u001b[49m\u001b[43mffmpeg_params\u001b[49m\u001b[43m,\u001b[49m\n\u001b[32m    307\u001b[39m \u001b[43m                   \u001b[49m\u001b[43mlogger\u001b[49m\u001b[43m=\u001b[49m\u001b[43mlogger\u001b[49m\u001b[43m)\u001b[49m\n\u001b[32m    309\u001b[39m \u001b[38;5;28;01mif\u001b[39;00m remove_temp \u001b[38;5;129;01mand\u001b[39;00m make_audio:\n\u001b[32m    310\u001b[39m     \u001b[38;5;28;01mif\u001b[39;00m os.path.exists(audiofile):\n",
      "\u001b[36mFile \u001b[39m\u001b[32m~\\PycharmProjects\\trabalho\\.venv\\Lib\\site-packages\\moviepy\\video\\io\\ffmpeg_writer.py:228\u001b[39m, in \u001b[36mffmpeg_write_video\u001b[39m\u001b[34m(clip, filename, fps, codec, bitrate, preset, withmask, write_logfile, audiofile, verbose, threads, ffmpeg_params, logger)\u001b[39m\n\u001b[32m    225\u001b[39m                 mask = mask.astype(\u001b[33m\"\u001b[39m\u001b[33muint8\u001b[39m\u001b[33m\"\u001b[39m)\n\u001b[32m    226\u001b[39m             frame = np.dstack([frame,mask])\n\u001b[32m--> \u001b[39m\u001b[32m228\u001b[39m         \u001b[43mwriter\u001b[49m\u001b[43m.\u001b[49m\u001b[43mwrite_frame\u001b[49m\u001b[43m(\u001b[49m\u001b[43mframe\u001b[49m\u001b[43m)\u001b[49m\n\u001b[32m    230\u001b[39m \u001b[38;5;28;01mif\u001b[39;00m write_logfile:\n\u001b[32m    231\u001b[39m     logfile.close()\n",
      "\u001b[36mFile \u001b[39m\u001b[32m~\\PycharmProjects\\trabalho\\.venv\\Lib\\site-packages\\moviepy\\video\\io\\ffmpeg_writer.py:136\u001b[39m, in \u001b[36mFFMPEG_VideoWriter.write_frame\u001b[39m\u001b[34m(self, img_array)\u001b[39m\n\u001b[32m    134\u001b[39m \u001b[38;5;28;01mtry\u001b[39;00m:\n\u001b[32m    135\u001b[39m     \u001b[38;5;28;01mif\u001b[39;00m PY3:\n\u001b[32m--> \u001b[39m\u001b[32m136\u001b[39m        \u001b[38;5;28;43mself\u001b[39;49m\u001b[43m.\u001b[49m\u001b[43mproc\u001b[49m\u001b[43m.\u001b[49m\u001b[43mstdin\u001b[49m\u001b[43m.\u001b[49m\u001b[43mwrite\u001b[49m\u001b[43m(\u001b[49m\u001b[43mimg_array\u001b[49m\u001b[43m.\u001b[49m\u001b[43mtobytes\u001b[49m\u001b[43m(\u001b[49m\u001b[43m)\u001b[49m\u001b[43m)\u001b[49m\n\u001b[32m    137\u001b[39m     \u001b[38;5;28;01melse\u001b[39;00m:\n\u001b[32m    138\u001b[39m        \u001b[38;5;28mself\u001b[39m.proc.stdin.write(img_array.tostring())\n",
      "\u001b[31mKeyboardInterrupt\u001b[39m: "
     ]
    },
    {
     "name": "stderr",
     "output_type": "stream",
     "text": [
      "t:  16%|█▌        | 1353/8400 [00:28<02:36, 44.94it/s, now=None]"
     ]
    }
   ],
   "source": [
    "video_final = mpe.concatenate_videoclips([video_primeiro_minuto, video_segunda_parte, video_cortado])\n",
    "\n",
    "video_final.write_videofile('resultado.mp4')"
   ]
  }
 ],
 "metadata": {
  "kernelspec": {
   "display_name": "Python 3 (ipykernel)",
   "language": "python",
   "name": "python3"
  },
  "language_info": {
   "codemirror_mode": {
    "name": "ipython",
    "version": 3
   },
   "file_extension": ".py",
   "mimetype": "text/x-python",
   "name": "python",
   "nbconvert_exporter": "python",
   "pygments_lexer": "ipython3",
   "version": "3.13.2"
  }
 },
 "nbformat": 4,
 "nbformat_minor": 5
}
